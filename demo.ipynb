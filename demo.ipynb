{
 "cells": [
  {
   "cell_type": "code",
   "execution_count": 196,
   "metadata": {},
   "outputs": [
    {
     "data": {
      "text/html": [
       "<div>\n",
       "<style>\n",
       "    .dataframe thead tr:only-child th {\n",
       "        text-align: right;\n",
       "    }\n",
       "\n",
       "    .dataframe thead th {\n",
       "        text-align: left;\n",
       "    }\n",
       "\n",
       "    .dataframe tbody tr th {\n",
       "        vertical-align: top;\n",
       "    }\n",
       "</style>\n",
       "<table border=\"1\" class=\"dataframe\">\n",
       "  <thead>\n",
       "    <tr style=\"text-align: right;\">\n",
       "      <th></th>\n",
       "      <th>Agent</th>\n",
       "      <th>AgentFamily</th>\n",
       "      <th>Version</th>\n",
       "    </tr>\n",
       "  </thead>\n",
       "  <tbody>\n",
       "    <tr>\n",
       "      <th>0</th>\n",
       "      <td>Mozilla/5.0 (Windows NT 6.2) AppleWebKit/537.3...</td>\n",
       "      <td>Chrome</td>\n",
       "      <td>39</td>\n",
       "    </tr>\n",
       "    <tr>\n",
       "      <th>1</th>\n",
       "      <td>Mozilla/5.0 (Linux; Android 4.1.1; GT-N8010 Bu...</td>\n",
       "      <td>Chrome</td>\n",
       "      <td>54</td>\n",
       "    </tr>\n",
       "    <tr>\n",
       "      <th>2</th>\n",
       "      <td>Mozilla/5.0 (Windows NT 6.3; WOW64) AppleWebKi...</td>\n",
       "      <td>Chrome</td>\n",
       "      <td>39</td>\n",
       "    </tr>\n",
       "    <tr>\n",
       "      <th>3</th>\n",
       "      <td>Mozilla/5.0 (Windows NT 6.3; Win64; x64) Apple...</td>\n",
       "      <td>Chrome</td>\n",
       "      <td>45</td>\n",
       "    </tr>\n",
       "    <tr>\n",
       "      <th>4</th>\n",
       "      <td>Mozilla/5.0 (Windows NT 6.2) AppleWebKit/537.3...</td>\n",
       "      <td>Chrome</td>\n",
       "      <td>37</td>\n",
       "    </tr>\n",
       "  </tbody>\n",
       "</table>\n",
       "</div>"
      ],
      "text/plain": [
       "                                               Agent AgentFamily Version\n",
       "0  Mozilla/5.0 (Windows NT 6.2) AppleWebKit/537.3...      Chrome      39\n",
       "1  Mozilla/5.0 (Linux; Android 4.1.1; GT-N8010 Bu...      Chrome      54\n",
       "2  Mozilla/5.0 (Windows NT 6.3; WOW64) AppleWebKi...      Chrome      39\n",
       "3  Mozilla/5.0 (Windows NT 6.3; Win64; x64) Apple...      Chrome      45\n",
       "4  Mozilla/5.0 (Windows NT 6.2) AppleWebKit/537.3...      Chrome      37"
      ]
     },
     "execution_count": 196,
     "metadata": {},
     "output_type": "execute_result"
    }
   ],
   "source": [
    "# Load training data and simple statistics \n",
    "import os,tarfile\n",
    "import pandas as pd\n",
    "import numpy as np\n",
    "DATA_PATH = \"datasets\"\n",
    "TRAINING_DATA = \"data_coding_exercise.txt\"\n",
    "\n",
    "def load_data(data_path = DATA_PATH, data = TRAINING_DATA):\n",
    "    file_path = os.path.join(data_path, data)\n",
    "    return pd.read_csv(file_path, sep = '\\t',  names = [\"Agent\", \"AgentFamily\", \"Version\"])\n",
    "\n",
    "agent = load_data()\n",
    "agent.head()\n"
   ]
  },
  {
   "cell_type": "code",
   "execution_count": 197,
   "metadata": {},
   "outputs": [
    {
     "name": "stdout",
     "output_type": "stream",
     "text": [
      "Mozilla/5.0 (Windows NT 6.2) AppleWebKit/537.36 (KHTML, like Gecko) Chrome/39.0.2195.31 Safari/537.36\n",
      "Mozilla/5.0 (Linux; Android 4.1.1; GT-N8010 Build/JRO03C) AppleWebKit/537.36 (KHTML, like Gecko) Chrome/54.0.2840.85 Safari/537.36\n",
      "Mozilla/5.0 (Windows NT 6.3; WOW64) AppleWebKit/537.36 (KHTML, like Gecko) Chrome/39.0.2175.61 Safari/537.36\n",
      "Mozilla/5.0 (Windows NT 6.3; Win64; x64) AppleWebKit/537.36 (KHTML, like Gecko) Chrome/45.0.2480.83 Safari/537.36\n",
      "Mozilla/5.0 (Windows NT 6.2) AppleWebKit/537.36 (KHTML, like Gecko) Chrome/37.0.2072.40 Safari/537.36\n",
      "Mozilla/5.0 (Windows NT 5.1; Win64; x64) AppleWebKit/537.36 (KHTML, like Gecko) Chrome/45.0.2469.28 Safari/537.36\n",
      "Mozilla/5.0 (Windows NT 6.1; WOW64) AppleWebKit/537.36 (KHTML, like Gecko) Chrome/33.0.1808.66 Safari/537.36\n",
      "Mozilla/5.0 (Windows NT 6.3; Win64; x64) AppleWebKit/537.36 (KHTML, like Gecko) Chrome/41.0.2296.3 Safari/537.36\n",
      "Mozilla/5.0 (Windows NT 5.1; Win64; x64) AppleWebKit/537.36 (KHTML, like Gecko) Chrome/35.0.1975.31 Safari/537.36\n",
      "Mozilla/5.0 (Windows NT 6.2; Win64; x64) AppleWebKit/537.36 (KHTML, like Gecko) Chrome/42.0.2349.65 Safari/537.36\n"
     ]
    }
   ],
   "source": [
    "#check examples of the description and get an idea of token separator \n",
    "agent_description = list(agent['Agent'])\n",
    "for i in range(10):\n",
    "    print(agent_description[i])"
   ]
  },
  {
   "cell_type": "code",
   "execution_count": 198,
   "metadata": {},
   "outputs": [
    {
     "name": "stdout",
     "output_type": "stream",
     "text": [
      "{'Firefox iOS', 'Opera Mobile', 'Sogou Explorer', 'Maxthon', 'Mobile Safari', 'Edge', 'Opera Mini', 'YandexSearch', 'AppleMail', 'UC Browser', 'Firefox', 'Facebook', 'Safari', 'Chrome Mobile', 'AOL', 'Amazon Silk', 'IE', 'Edge Mobile', 'IE Mobile', 'Puffin', 'Android', 'BlackBerry WebKit', 'QQ Browser', 'Chrome', 'Firefox Mobile', 'Opera', 'Chrome Mobile iOS', 'QQ Browser Mobile'}\n"
     ]
    }
   ],
   "source": [
    "#check the family of agents (make sure there are None)\n",
    "agent_family = set(list(agent['AgentFamily']))\n",
    "print(agent_family)"
   ]
  },
  {
   "cell_type": "code",
   "execution_count": 199,
   "metadata": {},
   "outputs": [
    {
     "data": {
      "text/html": [
       "<div>\n",
       "<style>\n",
       "    .dataframe thead tr:only-child th {\n",
       "        text-align: right;\n",
       "    }\n",
       "\n",
       "    .dataframe thead th {\n",
       "        text-align: left;\n",
       "    }\n",
       "\n",
       "    .dataframe tbody tr th {\n",
       "        vertical-align: top;\n",
       "    }\n",
       "</style>\n",
       "<table border=\"1\" class=\"dataframe\">\n",
       "  <thead>\n",
       "    <tr style=\"text-align: right;\">\n",
       "      <th></th>\n",
       "      <th>Agent</th>\n",
       "      <th>AgentFamily</th>\n",
       "      <th>Version</th>\n",
       "    </tr>\n",
       "  </thead>\n",
       "  <tbody>\n",
       "    <tr>\n",
       "      <th>count</th>\n",
       "      <td>421215</td>\n",
       "      <td>421215</td>\n",
       "      <td>421215</td>\n",
       "    </tr>\n",
       "    <tr>\n",
       "      <th>unique</th>\n",
       "      <td>421215</td>\n",
       "      <td>28</td>\n",
       "      <td>118</td>\n",
       "    </tr>\n",
       "    <tr>\n",
       "      <th>top</th>\n",
       "      <td>Mozilla/5.0 (Windows NT 6.2; WOW64) AppleWebKi...</td>\n",
       "      <td>Chrome</td>\n",
       "      <td>33</td>\n",
       "    </tr>\n",
       "    <tr>\n",
       "      <th>freq</th>\n",
       "      <td>1</td>\n",
       "      <td>308656</td>\n",
       "      <td>25755</td>\n",
       "    </tr>\n",
       "  </tbody>\n",
       "</table>\n",
       "</div>"
      ],
      "text/plain": [
       "                                                    Agent AgentFamily Version\n",
       "count                                              421215      421215  421215\n",
       "unique                                             421215          28     118\n",
       "top     Mozilla/5.0 (Windows NT 6.2; WOW64) AppleWebKi...      Chrome      33\n",
       "freq                                                    1      308656   25755"
      ]
     },
     "execution_count": 199,
     "metadata": {},
     "output_type": "execute_result"
    }
   ],
   "source": [
    "#check size and some simple statistics \n",
    "agent.describe()"
   ]
  },
  {
   "cell_type": "code",
   "execution_count": 200,
   "metadata": {},
   "outputs": [
    {
     "name": "stdout",
     "output_type": "stream",
     "text": [
      "<class 'pandas.core.frame.DataFrame'>\n",
      "RangeIndex: 421215 entries, 0 to 421214\n",
      "Data columns (total 3 columns):\n",
      "Agent          421215 non-null object\n",
      "AgentFamily    421215 non-null object\n",
      "Version        421215 non-null object\n",
      "dtypes: object(3)\n",
      "memory usage: 9.6+ MB\n"
     ]
    }
   ],
   "source": [
    "#checking whether we have missing information \n",
    "agent.info()\n",
    "#No missing values, great!"
   ]
  },
  {
   "cell_type": "code",
   "execution_count": 201,
   "metadata": {},
   "outputs": [
    {
     "data": {
      "text/plain": [
       "Chrome               308656\n",
       "Chrome Mobile         50095\n",
       "Facebook              18803\n",
       "IE                    17426\n",
       "Android                8155\n",
       "UC Browser             5595\n",
       "Mobile Safari          2383\n",
       "QQ Browser Mobile      1745\n",
       "Firefox                1661\n",
       "Opera Mobile           1281\n",
       "Opera                   921\n",
       "Chrome Mobile iOS       911\n",
       "Opera Mini              626\n",
       "Safari                  626\n",
       "QQ Browser              365\n",
       "IE Mobile               305\n",
       "BlackBerry WebKit       275\n",
       "Firefox Mobile          248\n",
       "Amazon Silk             224\n",
       "AppleMail               120\n",
       "Edge                    117\n",
       "Edge Mobile             116\n",
       "YandexSearch            111\n",
       "Maxthon                 107\n",
       "AOL                     100\n",
       "Sogou Explorer           95\n",
       "Puffin                   75\n",
       "Firefox iOS              73\n",
       "Name: AgentFamily, dtype: int64"
      ]
     },
     "execution_count": 201,
     "metadata": {},
     "output_type": "execute_result"
    }
   ],
   "source": [
    "agent[\"AgentFamily\"].value_counts()"
   ]
  },
  {
   "cell_type": "code",
   "execution_count": 202,
   "metadata": {},
   "outputs": [
    {
     "data": {
      "image/png": "[encoded data removed]",
      "text/plain": [
       "<matplotlib.figure.Figure at 0x134fd5278>"
      ]
     },
     "metadata": {},
     "output_type": "display_data"
    }
   ],
   "source": [
    "\n",
    "#%matplotlib inline\n",
    "import matplotlib.pyplot as plt\n",
    "agent[\"AgentFamily\"].value_counts()[:20].plot(kind='barh')\n",
    "plt.show()"
   ]
  },
  {
   "cell_type": "code",
   "execution_count": 203,
   "metadata": {},
   "outputs": [
    {
     "data": {
      "text/plain": [
       "33     25755\n",
       "35     23924\n",
       "37     23889\n",
       "34     23637\n",
       "36     23468\n",
       "44     22689\n",
       "40     22360\n",
       "43     21983\n",
       "38     21564\n",
       "42     21296\n",
       "39     21173\n",
       "32     20832\n",
       "41     20032\n",
       "45     19607\n",
       "11     15189\n",
       "55     14011\n",
       "54      7436\n",
       "4       7079\n",
       "7       4834\n",
       "53      3827\n",
       "106     3688\n",
       "52      3595\n",
       "51      3594\n",
       "30      3371\n",
       "10      3339\n",
       "75      3336\n",
       "50      3091\n",
       "49      2706\n",
       "8       2506\n",
       "46      2075\n",
       "       ...  \n",
       "16        83\n",
       "90        78\n",
       "91        74\n",
       "83        72\n",
       "88        68\n",
       "89        68\n",
       "86        66\n",
       "85        62\n",
       "87        61\n",
       "81        50\n",
       "84        50\n",
       "77        49\n",
       "82        45\n",
       "80        44\n",
       "601       35\n",
       "79        32\n",
       "602       31\n",
       "76        25\n",
       "600       23\n",
       "69        15\n",
       "71        14\n",
       "70        12\n",
       "537       11\n",
       "534       10\n",
       "0          9\n",
       "533        7\n",
       "78         4\n",
       "603        3\n",
       "536        2\n",
       "451        1\n",
       "Name: Version, Length: 118, dtype: int64"
      ]
     },
     "execution_count": 203,
     "metadata": {},
     "output_type": "execute_result"
    }
   ],
   "source": [
    "agent[\"Version\"].value_counts()"
   ]
  },
  {
   "cell_type": "code",
   "execution_count": 204,
   "metadata": {},
   "outputs": [
    {
     "data": {
      "image/png": "[encoded data removed]",
      "text/plain": [
       "<matplotlib.figure.Figure at 0x1254385f8>"
      ]
     },
     "metadata": {},
     "output_type": "display_data"
    }
   ],
   "source": [
    "\n",
    "agent[\"Version\"].value_counts()[:20].plot(kind='barh')\n",
    "plt.show()\n"
   ]
  },
  {
   "cell_type": "code",
   "execution_count": 205,
   "metadata": {},
   "outputs": [
    {
     "name": "stdout",
     "output_type": "stream",
     "text": [
      "336972 training set 84243 test_set\n"
     ]
    }
   ],
   "source": [
    "#split into training set and test set \n",
    "from sklearn.model_selection  import StratifiedShuffleSplit\n",
    "split = StratifiedShuffleSplit(n_splits=1, test_size=0.2, random_state=42)\n",
    "for train_index, test_index in split.split(agent, agent[\"AgentFamily\"]):\n",
    "    strat_train_set = agent.loc[train_index]\n",
    "    strat_test_set = agent.loc[test_index]\n",
    "    \n",
    "print(len(strat_train_set), \"training set\", len(strat_test_set), \"test_set\")\n",
    "agent_training_family = strat_train_set.copy()"
   ]
  },
  {
   "cell_type": "code",
   "execution_count": 206,
   "metadata": {},
   "outputs": [
    {
     "name": "stdout",
     "output_type": "stream",
     "text": [
      "Mozilla/5.0 (Windows NT 6.2) AppleWebKit/537.36 (KHTML, like Gecko) Chrome/39.0.2195.31 Safari/537.36\n",
      "['mozilla windows', 'windows nt', 'nt applewebkit', 'applewebkit 537', '537 36', '36 khtml', 'khtml like', 'like gecko', 'gecko chrome', 'chrome 39', '39 2195', '2195 31', '31 safari', 'safari 537', '537 36']\n",
      "Mozilla/5.0 (Linux; Android 4.1.1; GT-N8010 Build/JRO03C) AppleWebKit/537.36 (KHTML, like Gecko) Chrome/54.0.2840.85 Safari/537.36\n",
      "['mozilla linux', 'linux android', 'android gt', 'gt n8010', 'n8010 build', 'build jro03c', 'jro03c applewebkit', 'applewebkit 537', '537 36', '36 khtml', 'khtml like', 'like gecko', 'gecko chrome', 'chrome 54', '54 2840', '2840 85', '85 safari', 'safari 537', '537 36']\n",
      "Mozilla/5.0 (Windows NT 6.3; WOW64) AppleWebKit/537.36 (KHTML, like Gecko) Chrome/39.0.2175.61 Safari/537.36\n",
      "['mozilla windows', 'windows nt', 'nt wow64', 'wow64 applewebkit', 'applewebkit 537', '537 36', '36 khtml', 'khtml like', 'like gecko', 'gecko chrome', 'chrome 39', '39 2175', '2175 61', '61 safari', 'safari 537', '537 36']\n",
      "Mozilla/5.0 (Windows NT 6.3; Win64; x64) AppleWebKit/537.36 (KHTML, like Gecko) Chrome/45.0.2480.83 Safari/537.36\n",
      "['mozilla windows', 'windows nt', 'nt win64', 'win64 x64', 'x64 applewebkit', 'applewebkit 537', '537 36', '36 khtml', 'khtml like', 'like gecko', 'gecko chrome', 'chrome 45', '45 2480', '2480 83', '83 safari', 'safari 537', '537 36']\n",
      "Mozilla/5.0 (Windows NT 6.2) AppleWebKit/537.36 (KHTML, like Gecko) Chrome/37.0.2072.40 Safari/537.36\n",
      "['mozilla windows', 'windows nt', 'nt applewebkit', 'applewebkit 537', '537 36', '36 khtml', 'khtml like', 'like gecko', 'gecko chrome', 'chrome 37', '37 2072', '2072 40', '40 safari', 'safari 537', '537 36']\n"
     ]
    }
   ],
   "source": [
    "#extract features from agent description\n",
    "from sklearn.feature_extraction.text import CountVectorizer\n",
    "vectorizer_family = CountVectorizer(ngram_range=(2, 2))\n",
    "#check output of vectorizer\n",
    "analyze = vectorizer_family.build_analyzer()\n",
    "for i in range(5):\n",
    "    print(agent_training_family['Agent'][i])\n",
    "    print(analyze(agent_training_family['Agent'][i]))\n"
   ]
  },
  {
   "cell_type": "code",
   "execution_count": 222,
   "metadata": {},
   "outputs": [
    {
     "data": {
      "text/plain": [
       "<336972x140214 sparse matrix of type '<class 'numpy.int64'>'\n",
       "\twith 5617539 stored elements in Compressed Sparse Row format>"
      ]
     },
     "execution_count": 222,
     "metadata": {},
     "output_type": "execute_result"
    }
   ],
   "source": [
    "#fit transform\n",
    "X_family_train = vectorizer_family.fit_transform(agent_training_family['Agent'].values.astype('U'))\n",
    "X_family_train"
   ]
  },
  {
   "cell_type": "code",
   "execution_count": 223,
   "metadata": {},
   "outputs": [
    {
     "name": "stdout",
     "output_type": "stream",
     "text": [
      "zz zz 0.332877509111\n",
      "zz samsung 0.332875135026\n",
      "zytir1ppxok cgih0e 0.332872760942\n",
      "zyipbdtxzdc chbok5 0.332870386857\n",
      "zxeozyi_vew rv 0.332868012773\n",
      "zx840hd build 0.332865638688\n",
      "zx rk2926 0.332863264604\n",
      "zx d23 0.332860890519\n",
      "zx a13 0.332858516435\n",
      "zwrz1i0ex chcxvo 0.33285614235\n",
      "zvii build 0.332853768266\n",
      "zvi imm76d 0.332851394181\n",
      "zvc gwk74 0.332849020097\n",
      "zvav es 0.332846646012\n",
      "zvav de 0.332844271928\n",
      "zv5 vm696 0.332841897843\n",
      "zv5 gwk74 0.332839523759\n",
      "zv4 gwk74 0.332837149674\n",
      "zuum_zen_i build 0.33283477559\n",
      "zuum pro 0.332832401505\n",
      "zuum forza 0.332830027421\n",
      "zurich financial 0.332827653336\n",
      "zune net4 0.332825279252\n",
      "zune ms 0.332822905167\n",
      "zune creative 0.332820531083\n",
      "zuk z2151 0.332818156998\n",
      "zuk z2132 0.332815782914\n",
      "zuk z2131 0.332813408829\n",
      "zuk z2121 0.332811034745\n",
      "zuk z1 0.33280866066\n",
      "zug build 0.332806286576\n",
      "zug 5s 0.332803912491\n",
      "zu presto 0.332801538407\n",
      "ztjmhjo0iti cggqng 0.332799164322\n",
      "zten790 applewebkit 0.332796790238\n",
      "zteba610t linux 0.332794416153\n",
      "zteba510 linux 0.332792042069\n",
      "zte_u809_td v1 0.332789667984\n",
      "zte_n9511 build 0.3327872939\n",
      "zte_leo_q1 build 0.332784919815\n",
      "zte_blade_v0720 build 0.332782545731\n",
      "zte zte 0.332780171646\n",
      "zte z998 0.332777797562\n",
      "zte z995 0.332775423477\n",
      "zte z990g 0.332773049393\n",
      "zte z988 0.332770675308\n",
      "zte z987 0.332768301224\n",
      "zte z970 0.332765927139\n",
      "zte z958 0.332763553055\n",
      "zte z956 0.33276117897\n",
      "zte z955l 0.332758804886\n",
      "zte z833 0.332756430801\n",
      "zte z831 0.332754056717\n",
      "zte z820 0.332751682632\n",
      "zte z818l 0.332749308548\n",
      "zte z815 0.332746934463\n",
      "zte z813 0.332744560379\n",
      "zte z812 0.332742186294\n",
      "zte z792 0.33273981221\n",
      "zte z740g 0.332737438125\n",
      "zte z740 0.332735064041\n",
      "zte z716bl 0.332732689956\n",
      "zte z669 0.332730315872\n",
      "zte z667g 0.332727941787\n",
      "zte z660g 0.332725567703\n",
      "zte v993w 0.332723193618\n",
      "zte v9820 0.332720819534\n",
      "zte v975 0.332718445449\n",
      "zte v970m 0.332716071365\n",
      "zte v817 0.33271369728\n",
      "zte v815w 0.332711323196\n",
      "zte v809 0.332708949111\n",
      "zte v797 0.332706575027\n",
      "zte v795 0.332704200943\n",
      "zte v791 0.332701826858\n",
      "zte v769m 0.332699452774\n",
      "zte v765m 0.332697078689\n",
      "zte u5 0.332694704605\n",
      "zte t912 0.33269233052\n",
      "zte t84 0.332689956436\n",
      "zte t83 0.332687582351\n",
      "zte t815 0.332685208267\n",
      "zte t663 0.332682834182\n",
      "zte t660 0.332680460098\n",
      "zte t630 0.332678086013\n",
      "zte t620 0.332675711929\n",
      "zte t610 0.332673337844\n",
      "zte t320 0.33267096376\n",
      "zte t311 0.332668589675\n",
      "zte t230 0.332666215591\n",
      "zte t221 0.332663841506\n",
      "zte t220 0.332661467422\n",
      "zte star 0.332659093337\n",
      "zte skate 0.332656719253\n",
      "zte sdk 0.332654345168\n",
      "zte s2014 0.332651971084\n",
      "zte release 0.332649596999\n",
      "zte q806t 0.332647222915\n",
      "zte q805t 0.33264484883\n",
      "zte q801u 0.332642474746\n"
     ]
    }
   ],
   "source": [
    "#show the top 10 frequent words and their frequency of the default vectorizer\n",
    "low_frequency_keys = sorted(vectorizer_family.vocabulary_, key=vectorizer_family.vocabulary_.get, reverse=True)[:100]\n",
    "for k in low_frequency_keys:\n",
    "    print(k, vectorizer_family.vocabulary_[k]/len(agent))\n"
   ]
  },
  {
   "cell_type": "code",
   "execution_count": 224,
   "metadata": {},
   "outputs": [
    {
     "name": "stdout",
     "output_type": "stream",
     "text": [
      "00 04 0.0\n",
      "00 05 2.37408449367e-06\n",
      "00 161 4.74816898733e-06\n",
      "00 23 7.122253481e-06\n",
      "00 33 9.49633797467e-06\n",
      "00 40 1.18704224683e-05\n",
      "00 applewebkit 1.4244506962e-05\n",
      "00 build 1.66185914557e-05\n",
      "00 d1 1.89926759493e-05\n",
      "00 kr 2.1366760443e-05\n",
      "00 mv 2.37408449367e-05\n",
      "00 presto 2.61149294303e-05\n",
      "00 rog 2.8489013924e-05\n",
      "00 safari 3.08630984177e-05\n",
      "00 u2 3.32371829113e-05\n",
      "00 windows 3.5611267405e-05\n",
      "00 wv 3.79853518987e-05\n",
      "000 33 4.03594363923e-05\n",
      "000 applewebkit 4.2733520886e-05\n",
      "0000 0000 4.51076053797e-05\n",
      "0000 000000004000 4.74816898733e-05\n",
      "0000 applewebkit 4.9855774367e-05\n",
      "0000 build 5.22298588607e-05\n",
      "00000000 0000 5.46039433543e-05\n",
      "000000004000 koboaffiliate 5.6978027848e-05\n",
      "00000000877d windows 5.93521123417e-05\n",
      "000000062262 windows 6.17261968353e-05\n",
      "000000071299 windows 6.4100281329e-05\n",
      "000000084866 windows 6.64743658227e-05\n",
      "000000096386 windows 6.88484503163e-05\n",
      "000000108099 windows 7.122253481e-05\n",
      "000000121131 windows 7.35966193037e-05\n",
      "00000015242a windows 7.59707037973e-05\n",
      "000000218102 windows 7.8344788291e-05\n",
      "00000024603b windows 8.07188727847e-05\n",
      "00000033631f windows 8.30929572783e-05\n",
      "00000047293d windows 8.5467041772e-05\n",
      "000000517048 slcc2 8.78411262657e-05\n",
      "000000640662 windows 9.02152107594e-05\n",
      "00000064506a windows 9.2589295253e-05\n",
      "000000763360 windows 9.49633797467e-05\n",
      "000000789688 windows 9.73374642404e-05\n",
      "000019 001 9.9711548734e-05\n",
      "0001 0001 0.000102085633228\n",
      "0001 kdl40w605b 0.000104459717721\n",
      "00014a sonydtv115 0.000106833802215\n",
      "00014a sonydtv140 0.000109207886709\n",
      "0002 0100 0.000111581971202\n",
      "0002 applewebkit 0.000113956055696\n",
      "00038a000015 gtb7 0.00011633014019\n",
      "0004234fe699 gtb7 0.000118704224683\n",
      "000ri 37 0.000121078309177\n",
      "001 applewebkit 0.000123452393671\n",
      "001 build 0.000125826478164\n",
      "0011 42a7 0.000128200562658\n",
      "0011118d3656 gtb7 0.000130574647152\n",
      "001a6bad2666 slcc2 0.000132948731645\n",
      "001cc0791842 gtb7 0.000135322816139\n",
      "0023ae9a711d gtb7 0.000137696900633\n",
      "00260 applewebkit 0.000140070985126\n",
      "003 adaware 0.00014244506962\n",
      "004 251 0.000144819154114\n",
      "004 p0 0.000147193238607\n",
      "005 net 0.000149567323101\n",
      "007 130121 0.000151941407595\n",
      "007 rv 0.000154315492088\n",
      "00a g0126 0.000156689576582\n",
      "00piwiavw7a rb8ac6 0.000159063661076\n",
      "01 00a 0.000161437745569\n",
      "01 01 0.000163811830063\n",
      "01 03 0.000166185914557\n",
      "01 04 0.00016855999905\n",
      "01 05 0.000170934083544\n",
      "01 06 0.000173308168038\n",
      "01 07 0.000175682252531\n",
      "01 08 0.000178056337025\n",
      "01 09 0.000180430421519\n",
      "01 10 0.000182804506012\n",
      "01 15 0.000185178590506\n",
      "01 16 0.000187552675\n",
      "01 166 0.000189926759493\n",
      "01 17 0.000192300843987\n",
      "01 18 0.000194674928481\n",
      "01 19 0.000197049012974\n",
      "01 20 0.000199423097468\n",
      "01 2013 0.000201797181962\n",
      "01 2015 0.000204171266455\n",
      "01 2016 0.000206545350949\n",
      "01 21 0.000208919435443\n",
      "01 23 0.000211293519936\n",
      "01 23257 0.00021366760443\n",
      "01 25 0.000216041688924\n",
      "01 26 0.000218415773417\n",
      "01 28 0.000220789857911\n",
      "01 45 0.000223163942405\n",
      "01 4aj11 0.000225538026898\n",
      "01 applewebkit 0.000227912111392\n",
      "01 build 0.000230286195886\n",
      "01 mg 0.000232660280379\n",
      "01 net 0.000235034364873\n"
     ]
    }
   ],
   "source": [
    "#show the bottom 10 frequent words and its frequency of the default vectorizer\n",
    "low_frequency_keys = sorted(vectorizer_family.vocabulary_, key=vectorizer_family.vocabulary_.get)[:100]\n",
    "for k in low_frequency_keys:\n",
    "    print(k, vectorizer_family.vocabulary_[k]/len(agent))"
   ]
  },
  {
   "cell_type": "code",
   "execution_count": 225,
   "metadata": {},
   "outputs": [
    {
     "data": {
      "text/plain": [
       "(336972, 140214)"
      ]
     },
     "execution_count": 225,
     "metadata": {},
     "output_type": "execute_result"
    }
   ],
   "source": [
    "#apply  Tf–idf term weighting\n",
    "from sklearn.feature_extraction.text import TfidfTransformer\n",
    "tfidf_transformer_family = TfidfTransformer(smooth_idf=False)\n",
    "tfidf_family = tfidf_transformer_family.fit_transform(X_family_train)\n",
    "tfidf_family.shape"
   ]
  },
  {
   "cell_type": "code",
   "execution_count": 226,
   "metadata": {},
   "outputs": [],
   "source": [
    "#Train the classifier (choose SVM) for the family\n",
    "from sklearn.linear_model import SGDClassifier\n",
    "#Needs to tune penalty and alpha\n",
    "clf_svm = SGDClassifier(loss='hinge', penalty='l2', alpha=1e-3, max_iter=5, random_state=42)\n",
    "family_clf_svm = clf_svm.fit(tfidf_family, agent_training_family[\"AgentFamily\"])"
   ]
  },
  {
   "cell_type": "code",
   "execution_count": 227,
   "metadata": {},
   "outputs": [
    {
     "data": {
      "text/plain": [
       "0.9561675395157172"
      ]
     },
     "execution_count": 227,
     "metadata": {},
     "output_type": "execute_result"
    }
   ],
   "source": [
    "#Measure on the test set\n",
    "agent_test_family = strat_test_set.copy()\n",
    "X_family_test = vectorizer_family.transform(agent_test_family['Agent'].values.astype('U'))\n",
    "tfidf_family_test = tfidf_transformer_family.transform(X_family_test)\n",
    "predicted_family_svm_test = family_clf_svm.predict(tfidf_family_test)\n",
    "np.mean(predicted_family_svm_test == agent_test_family['AgentFamily'])"
   ]
  },
  {
   "cell_type": "code",
   "execution_count": 234,
   "metadata": {},
   "outputs": [
    {
     "data": {
      "text/plain": [
       "{'clf-svm__alpha': 0.001}"
      ]
     },
     "execution_count": 234,
     "metadata": {},
     "output_type": "execute_result"
    }
   ],
   "source": [
    "#Fine tune the model using Grid Search or Randomized Search\n",
    "#form the pipeline \n",
    "from sklearn.pipeline import Pipeline \n",
    "from sklearn.model_selection import GridSearchCV\n",
    "cls_family = Pipeline([\n",
    "        (\"vect\", CountVectorizer(ngram_range=(2, 2))),\n",
    "        (\"tfidf\", TfidfTransformer()),\n",
    "        (\"clf-svm\",  SGDClassifier(loss='hinge', max_iter=5, random_state=42)),\n",
    "])\n",
    "\n",
    "parameters_svm = {\n",
    "                  'clf-svm__alpha': (1e-2, 1e-3),\n",
    "}\n",
    "\n",
    "gs_clf_family = GridSearchCV(cls_family, parameters_svm, n_jobs=-1)\n",
    "gs_clf_family = gs_clf_family.fit(agent_training_family['Agent'].values.astype('U'), agent_training_family[\"AgentFamily\"].values.astype('U'))\n",
    "gs_clf_family.best_score_\n",
    "gs_clf_family.best_params_"
   ]
  },
  {
   "cell_type": "code",
   "execution_count": 236,
   "metadata": {},
   "outputs": [
    {
     "name": "stdout",
     "output_type": "stream",
     "text": [
      "0.957563239676\n",
      "{'clf-svm__alpha': 0.001}\n"
     ]
    },
    {
     "data": {
      "text/plain": [
       "sklearn.model_selection._search.GridSearchCV"
      ]
     },
     "execution_count": 236,
     "metadata": {},
     "output_type": "execute_result"
    }
   ],
   "source": [
    "print(gs_clf_family.best_score_)\n",
    "print(gs_clf_family.best_params_)\n",
    "type(gs_clf_family)"
   ]
  },
  {
   "cell_type": "code",
   "execution_count": 237,
   "metadata": {},
   "outputs": [
    {
     "data": {
      "text/plain": [
       "0.95658318192074299"
      ]
     },
     "execution_count": 237,
     "metadata": {},
     "output_type": "execute_result"
    }
   ],
   "source": [
    "#use the gridsearched classfier to predict \n",
    "predicted_family_svm_test = gs_clf_family.predict(agent_test_family['Agent'].values.astype('U'))\n",
    "np.mean(predicted_family_svm_test == agent_test_family['AgentFamily'])\n"
   ]
  },
  {
   "cell_type": "code",
   "execution_count": 228,
   "metadata": {},
   "outputs": [
    {
     "data": {
      "text/html": [
       "<div>\n",
       "<style>\n",
       "    .dataframe thead tr:only-child th {\n",
       "        text-align: right;\n",
       "    }\n",
       "\n",
       "    .dataframe thead th {\n",
       "        text-align: left;\n",
       "    }\n",
       "\n",
       "    .dataframe tbody tr th {\n",
       "        vertical-align: top;\n",
       "    }\n",
       "</style>\n",
       "<table border=\"1\" class=\"dataframe\">\n",
       "  <thead>\n",
       "    <tr style=\"text-align: right;\">\n",
       "      <th></th>\n",
       "      <th>Agent</th>\n",
       "      <th>AgentFamily</th>\n",
       "      <th>Version</th>\n",
       "    </tr>\n",
       "  </thead>\n",
       "  <tbody>\n",
       "    <tr>\n",
       "      <th>0</th>\n",
       "      <td>Mozilla/5.0 (Windows NT 6.2; Win64; x64) Apple...</td>\n",
       "      <td>Chrome</td>\n",
       "      <td>39</td>\n",
       "    </tr>\n",
       "    <tr>\n",
       "      <th>1</th>\n",
       "      <td>Mozilla/5.0 (Windows NT 5.1) AppleWebKit/537.3...</td>\n",
       "      <td>Chrome</td>\n",
       "      <td>32</td>\n",
       "    </tr>\n",
       "  </tbody>\n",
       "</table>\n",
       "</div>"
      ],
      "text/plain": [
       "                                               Agent AgentFamily  Version\n",
       "0  Mozilla/5.0 (Windows NT 6.2; Win64; x64) Apple...      Chrome       39\n",
       "1  Mozilla/5.0 (Windows NT 5.1) AppleWebKit/537.3...      Chrome       32"
      ]
     },
     "execution_count": 228,
     "metadata": {},
     "output_type": "execute_result"
    }
   ],
   "source": [
    "# Load test data \n",
    "DATA_PATH = \"datasets\"\n",
    "TRAINING_DATA = \"test_data_coding_exercise.txt\"\n",
    "\n",
    "def load_data(data_path = DATA_PATH, data = TRAINING_DATA):\n",
    "    file_path = os.path.join(data_path, data)\n",
    "    return pd.read_csv(file_path, sep = '\\t',  names = [\"Agent\", \"AgentFamily\", \"Version\"])\n",
    "\n",
    "agent_test_out = load_data()\n",
    "agent_test_out.head()\n"
   ]
  },
  {
   "cell_type": "code",
   "execution_count": 229,
   "metadata": {},
   "outputs": [
    {
     "name": "stdout",
     "output_type": "stream",
     "text": [
      "['Chrome' 'Chrome']\n"
     ]
    },
    {
     "data": {
      "text/plain": [
       "1.0"
      ]
     },
     "execution_count": 229,
     "metadata": {},
     "output_type": "execute_result"
    }
   ],
   "source": [
    "#Measure on the outside test set\n",
    "X_family_test_out = vectorizer_family.transform(agent_test_out['Agent'].values.astype('U'))\n",
    "tfidf_family_test_out = tfidf_transformer_family.transform(X_family_test_out)\n",
    "predicted_family_svm_test_out = text_clf_svm.predict(tfidf_family_test_out)\n",
    "print(predicted_family_svm_test_out)\n",
    "np.mean(predicted_family_svm_test_out == agent_test_out['AgentFamily'])"
   ]
  },
  {
   "cell_type": "code",
   "execution_count": 216,
   "metadata": {},
   "outputs": [
    {
     "name": "stdout",
     "output_type": "stream",
     "text": [
      "{'34', '75', '43', '15', '11', '71', '51', '103', '19', '13', '35', '2', '82', '66', '65', '601', '59', '102', '87', '24', '91', '25', '4', '83', '84', '40', '94', '39', '37', '16', '107', '68', '29', '0', '76', '56', '1', '8', '99', '57', '36', '46', '14', '21', '73', '45', '105', '64', '32', '70', '26', '54', '6', '92', '69', '96', '44', '12', '534', '78', '89', '23', '90', '72', '38', '86', '5', '63', '55', '533', '53', '104', '27', '81', '42', '7', '98', '88', '20', '79', '600', '537', '536', '50', '3', '95', '30', '61', '93', '85', '100', '74', '47', '67', 'None', '10', '49', '48', '41', '451', '58', '60', '9', '22', '97', '33', '603', '28', '101', '17', '62', '77', '52', '31', '80', '602', '18', '106'}\n",
      "118\n"
     ]
    }
   ],
   "source": [
    "#check set of version number\n",
    "agent_version = set(list(agent['Version']))\n",
    "print(agent_version)\n",
    "print(len(agent_version))"
   ]
  },
  {
   "cell_type": "code",
   "execution_count": 238,
   "metadata": {},
   "outputs": [
    {
     "name": "stdout",
     "output_type": "stream",
     "text": [
      "179\n",
      "['451']\n",
      "length before filtering 421215\n",
      "length after filtering 421035\n",
      "336828 training set 84207 test_set\n"
     ]
    }
   ],
   "source": [
    "#Resample for Version as Family and Version has different bias\n",
    "#Drop rows where its version number is unique\n",
    "version_counts_dict = agent[\"Version\"].value_counts().to_dict()\n",
    "print(version_counts_dict['None'])\n",
    "version_w_one_occurance = [k for k in version_counts_dict if version_counts_dict[k]==1]\n",
    "print(version_w_one_occurance)\n",
    "#filter none value\n",
    "agent_filter_null_value = agent.loc[agent[\"Version\"] != 'None']\n",
    "agent_filter_one_freq = agent_filter_null_value.loc[~agent_filter_null_value[\"Version\"].isin(version_w_one_occurance)]\n",
    "print(\"length before filtering\", len(agent))\n",
    "print(\"length after filtering\", len(agent_filter_one_freq))\n",
    "for train_index, test_index in split.split(agent_filter_one_freq, agent_filter_one_freq[\"Version\"]):\n",
    "    strat_train_set = agent_filter_one_freq.loc[train_index]\n",
    "    strat_test_set = agent_filter_one_freq.loc[test_index]\n",
    "    \n",
    "print(len(strat_train_set), \"training set\", len(strat_test_set), \"test_set\")\n",
    "agent_training_version = strat_train_set.copy()"
   ]
  },
  {
   "cell_type": "code",
   "execution_count": 218,
   "metadata": {},
   "outputs": [],
   "source": [
    "#fit transform\n",
    "vectorizer_version = CountVectorizer(ngram_range=(2, 2))\n",
    "X_version_train = vectorizer_version.fit_transform(agent_training_version['Agent'].values.astype('U'))\n",
    "tfidf_version_transformer = TfidfTransformer(smooth_idf=False)\n",
    "tfidf_version_train = tfidf_version_transformer.fit_transform(X_version_train)"
   ]
  },
  {
   "cell_type": "code",
   "execution_count": 219,
   "metadata": {},
   "outputs": [],
   "source": [
    "#Train the classifier (choose SVM) for the version number\n",
    "#Needs to tune penalty and alpha\n",
    "clf_svm_version = SGDClassifier(loss='hinge', penalty='l2', alpha=1e-3, max_iter=5, random_state=42)\n",
    "verion_clf_svm = clf_svm_version.fit(tfidf_version_train, agent_training_version[\"Version\"].astype('U'))"
   ]
  },
  {
   "cell_type": "code",
   "execution_count": 220,
   "metadata": {},
   "outputs": [
    {
     "data": {
      "text/plain": [
       "0.95701069982305509"
      ]
     },
     "execution_count": 220,
     "metadata": {},
     "output_type": "execute_result"
    }
   ],
   "source": [
    "#Predict on the test set \n",
    "agent_test_version = strat_test_set.copy()\n",
    "X_version_test = vectorizer_version.transform(agent_test_version['Agent'].values.astype('U'))\n",
    "tfidf_version_test = tfidf_version_transformer.transform(X_version_test)\n",
    "predicted_version_svm_test = verion_clf_svm.predict(tfidf_version_test)\n",
    "#print(predicted_version_svm_test[:20])\n",
    "np.mean(predicted_version_svm_test == agent_test_version['Version'].astype('U'))"
   ]
  },
  {
   "cell_type": "code",
   "execution_count": 221,
   "metadata": {},
   "outputs": [
    {
     "name": "stdout",
     "output_type": "stream",
     "text": [
      "['39' '32']\n"
     ]
    },
    {
     "data": {
      "text/plain": [
       "1.0"
      ]
     },
     "execution_count": 221,
     "metadata": {},
     "output_type": "execute_result"
    }
   ],
   "source": [
    "#Measure on the outside test set\n",
    "X_version_test_out = vectorizer_version.transform(agent_test_out['Agent'].values.astype('U'))\n",
    "tfidf_version_test_out = tfidf_version_transformer.transform(X_version_test_out)\n",
    "predicted_version_svm_test_out = verion_clf_svm.predict(tfidf_version_test_out)\n",
    "print(predicted_version_svm_test_out)\n",
    "np.mean(predicted_version_svm_test_out == agent_test_out['Version'].astype('U'))"
   ]
  },
  {
   "cell_type": "code",
   "execution_count": null,
   "metadata": {},
   "outputs": [],
   "source": []
  }
 ],
 "metadata": {
  "kernelspec": {
   "display_name": "Python 3",
   "language": "python",
   "name": "python3"
  },
  "language_info": {
   "codemirror_mode": {
    "name": "ipython",
    "version": 3
   },
   "file_extension": ".py",
   "mimetype": "text/x-python",
   "name": "python",
   "nbconvert_exporter": "python",
   "pygments_lexer": "ipython3",
   "version": "3.5.0"
  }
 },
 "nbformat": 4,
 "nbformat_minor": 2
}
