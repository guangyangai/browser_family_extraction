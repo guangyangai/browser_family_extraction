{
 "cells": [
  {
   "cell_type": "code",
   "execution_count": 36,
   "metadata": {},
   "outputs": [
    {
     "data": {
      "text/html": [
       "<div>\n",
       "<style>\n",
       "    .dataframe thead tr:only-child th {\n",
       "        text-align: right;\n",
       "    }\n",
       "\n",
       "    .dataframe thead th {\n",
       "        text-align: left;\n",
       "    }\n",
       "\n",
       "    .dataframe tbody tr th {\n",
       "        vertical-align: top;\n",
       "    }\n",
       "</style>\n",
       "<table border=\"1\" class=\"dataframe\">\n",
       "  <thead>\n",
       "    <tr style=\"text-align: right;\">\n",
       "      <th></th>\n",
       "      <th>Agent</th>\n",
       "      <th>AgentFamily</th>\n",
       "      <th>Version</th>\n",
       "    </tr>\n",
       "  </thead>\n",
       "  <tbody>\n",
       "    <tr>\n",
       "      <th>0</th>\n",
       "      <td>Mozilla/5.0 (Windows NT 6.2) AppleWebKit/537.3...</td>\n",
       "      <td>Chrome</td>\n",
       "      <td>39</td>\n",
       "    </tr>\n",
       "    <tr>\n",
       "      <th>1</th>\n",
       "      <td>Mozilla/5.0 (Linux; Android 4.1.1; GT-N8010 Bu...</td>\n",
       "      <td>Chrome</td>\n",
       "      <td>54</td>\n",
       "    </tr>\n",
       "    <tr>\n",
       "      <th>2</th>\n",
       "      <td>Mozilla/5.0 (Windows NT 6.3; WOW64) AppleWebKi...</td>\n",
       "      <td>Chrome</td>\n",
       "      <td>39</td>\n",
       "    </tr>\n",
       "    <tr>\n",
       "      <th>3</th>\n",
       "      <td>Mozilla/5.0 (Windows NT 6.3; Win64; x64) Apple...</td>\n",
       "      <td>Chrome</td>\n",
       "      <td>45</td>\n",
       "    </tr>\n",
       "    <tr>\n",
       "      <th>4</th>\n",
       "      <td>Mozilla/5.0 (Windows NT 6.2) AppleWebKit/537.3...</td>\n",
       "      <td>Chrome</td>\n",
       "      <td>37</td>\n",
       "    </tr>\n",
       "  </tbody>\n",
       "</table>\n",
       "</div>"
      ],
      "text/plain": [
       "                                               Agent AgentFamily Version\n",
       "0  Mozilla/5.0 (Windows NT 6.2) AppleWebKit/537.3...      Chrome      39\n",
       "1  Mozilla/5.0 (Linux; Android 4.1.1; GT-N8010 Bu...      Chrome      54\n",
       "2  Mozilla/5.0 (Windows NT 6.3; WOW64) AppleWebKi...      Chrome      39\n",
       "3  Mozilla/5.0 (Windows NT 6.3; Win64; x64) Apple...      Chrome      45\n",
       "4  Mozilla/5.0 (Windows NT 6.2) AppleWebKit/537.3...      Chrome      37"
      ]
     },
     "execution_count": 36,
     "metadata": {},
     "output_type": "execute_result"
    }
   ],
   "source": [
    "# Load training data and simple statistics \n",
    "import os,tarfile\n",
    "import pandas as pd\n",
    "import numpy as np\n",
    "DATA_PATH = \"datasets\"\n",
    "TRAINING_DATA = \"data_coding_exercise.txt\"\n",
    "\n",
    "def load_data(data_path = DATA_PATH, data = TRAINING_DATA):\n",
    "    file_path = os.path.join(data_path, data)\n",
    "    return pd.read_csv(file_path, sep = '\\t',  names = [\"Agent\", \"AgentFamily\", \"Version\"])\n",
    "\n",
    "agent = load_data()\n",
    "agent.head()\n"
   ]
  },
  {
   "cell_type": "code",
   "execution_count": 21,
   "metadata": {},
   "outputs": [
    {
     "name": "stdout",
     "output_type": "stream",
     "text": [
      "Mozilla/5.0 (Windows NT 6.2) AppleWebKit/537.36 (KHTML, like Gecko) Chrome/39.0.2195.31 Safari/537.36\n",
      "Mozilla/5.0 (Linux; Android 4.1.1; GT-N8010 Build/JRO03C) AppleWebKit/537.36 (KHTML, like Gecko) Chrome/54.0.2840.85 Safari/537.36\n",
      "Mozilla/5.0 (Windows NT 6.3; WOW64) AppleWebKit/537.36 (KHTML, like Gecko) Chrome/39.0.2175.61 Safari/537.36\n",
      "Mozilla/5.0 (Windows NT 6.3; Win64; x64) AppleWebKit/537.36 (KHTML, like Gecko) Chrome/45.0.2480.83 Safari/537.36\n",
      "Mozilla/5.0 (Windows NT 6.2) AppleWebKit/537.36 (KHTML, like Gecko) Chrome/37.0.2072.40 Safari/537.36\n",
      "Mozilla/5.0 (Windows NT 5.1; Win64; x64) AppleWebKit/537.36 (KHTML, like Gecko) Chrome/45.0.2469.28 Safari/537.36\n",
      "Mozilla/5.0 (Windows NT 6.1; WOW64) AppleWebKit/537.36 (KHTML, like Gecko) Chrome/33.0.1808.66 Safari/537.36\n",
      "Mozilla/5.0 (Windows NT 6.3; Win64; x64) AppleWebKit/537.36 (KHTML, like Gecko) Chrome/41.0.2296.3 Safari/537.36\n",
      "Mozilla/5.0 (Windows NT 5.1; Win64; x64) AppleWebKit/537.36 (KHTML, like Gecko) Chrome/35.0.1975.31 Safari/537.36\n",
      "Mozilla/5.0 (Windows NT 6.2; Win64; x64) AppleWebKit/537.36 (KHTML, like Gecko) Chrome/42.0.2349.65 Safari/537.36\n"
     ]
    }
   ],
   "source": [
    "#check examples of the description and get an idea of token separator \n",
    "agent_description = list(agent['Agent'])\n",
    "for i in range(10):\n",
    "    print(agent_description[i])"
   ]
  },
  {
   "cell_type": "code",
   "execution_count": 29,
   "metadata": {},
   "outputs": [
    {
     "name": "stdout",
     "output_type": "stream",
     "text": [
      "{'Amazon Silk', 'AppleMail', 'Edge', 'Opera', 'YandexSearch', 'Edge Mobile', 'IE', 'Firefox iOS', 'Sogou Explorer', 'BlackBerry WebKit', 'Chrome Mobile iOS', 'Chrome Mobile', 'Android', 'QQ Browser Mobile', 'Puffin', 'Facebook', 'Firefox Mobile', 'Firefox', 'IE Mobile', 'QQ Browser', 'UC Browser', 'AOL', 'Opera Mobile', 'Safari', 'Maxthon', 'Mobile Safari', 'Chrome', 'Opera Mini'}\n"
     ]
    }
   ],
   "source": [
    "#check the family of agents\n",
    "agent_family = set(list(agent['AgentFamily']))\n",
    "print(agent_family)"
   ]
  },
  {
   "cell_type": "code",
   "execution_count": 8,
   "metadata": {},
   "outputs": [
    {
     "data": {
      "text/html": [
       "<div>\n",
       "<style>\n",
       "    .dataframe thead tr:only-child th {\n",
       "        text-align: right;\n",
       "    }\n",
       "\n",
       "    .dataframe thead th {\n",
       "        text-align: left;\n",
       "    }\n",
       "\n",
       "    .dataframe tbody tr th {\n",
       "        vertical-align: top;\n",
       "    }\n",
       "</style>\n",
       "<table border=\"1\" class=\"dataframe\">\n",
       "  <thead>\n",
       "    <tr style=\"text-align: right;\">\n",
       "      <th></th>\n",
       "      <th>Agent</th>\n",
       "      <th>AgentFamily</th>\n",
       "      <th>Version</th>\n",
       "    </tr>\n",
       "  </thead>\n",
       "  <tbody>\n",
       "    <tr>\n",
       "      <th>count</th>\n",
       "      <td>421215</td>\n",
       "      <td>421215</td>\n",
       "      <td>421215</td>\n",
       "    </tr>\n",
       "    <tr>\n",
       "      <th>unique</th>\n",
       "      <td>421215</td>\n",
       "      <td>28</td>\n",
       "      <td>118</td>\n",
       "    </tr>\n",
       "    <tr>\n",
       "      <th>top</th>\n",
       "      <td>Mozilla/5.0 (Linux; Android 4.2.2; ALCATEL ONE...</td>\n",
       "      <td>Chrome</td>\n",
       "      <td>33</td>\n",
       "    </tr>\n",
       "    <tr>\n",
       "      <th>freq</th>\n",
       "      <td>1</td>\n",
       "      <td>308656</td>\n",
       "      <td>25755</td>\n",
       "    </tr>\n",
       "  </tbody>\n",
       "</table>\n",
       "</div>"
      ],
      "text/plain": [
       "                                                    Agent AgentFamily Version\n",
       "count                                              421215      421215  421215\n",
       "unique                                             421215          28     118\n",
       "top     Mozilla/5.0 (Linux; Android 4.2.2; ALCATEL ONE...      Chrome      33\n",
       "freq                                                    1      308656   25755"
      ]
     },
     "execution_count": 8,
     "metadata": {},
     "output_type": "execute_result"
    }
   ],
   "source": [
    "#check size and some simple statistics \n",
    "agent.describe()"
   ]
  },
  {
   "cell_type": "code",
   "execution_count": 93,
   "metadata": {},
   "outputs": [
    {
     "data": {
      "text/plain": [
       "<matplotlib.axes._subplots.AxesSubplot at 0x13067ef98>"
      ]
     },
     "execution_count": 93,
     "metadata": {},
     "output_type": "execute_result"
    },
    {
     "data": {
      "image/png": "[encoded data removed]",
      "text/plain": [
       "<matplotlib.figure.Figure at 0x13067e080>"
      ]
     },
     "metadata": {},
     "output_type": "display_data"
    }
   ],
   "source": [
    "agent[\"AgentFamily\"].value_counts()[:20].plot(kind='barh')\n"
   ]
  },
  {
   "cell_type": "code",
   "execution_count": 94,
   "metadata": {},
   "outputs": [
    {
     "data": {
      "text/plain": [
       "<matplotlib.axes._subplots.AxesSubplot at 0x1310d6898>"
      ]
     },
     "execution_count": 94,
     "metadata": {},
     "output_type": "execute_result"
    },
    {
     "data": {
      "image/png": "[encoded data removed]",
      "text/plain": [
       "<matplotlib.figure.Figure at 0x13464f1d0>"
      ]
     },
     "metadata": {},
     "output_type": "display_data"
    }
   ],
   "source": [
    "\n",
    "#%matplotlib inline\n",
    "import matplotlib.pyplot as plt\n",
    "agent[\"Version\"].value_counts()[:30].plot(kind='barh')\n"
   ]
  },
  {
   "cell_type": "code",
   "execution_count": null,
   "metadata": {},
   "outputs": [],
   "source": [
    "#split into training set and test set \n",
    "from sklearn.model_selection  import StratifiedShuffleSplit\n",
    "split = StratifiedShuffleSplit(n_splits=1, test_size=0.2, random_state=42)\n",
    "for train_index, test_index in split.split(agent, agent[\"AgentFamily\"]):\n",
    "    strat_train_set = agent.loc[train_index]\n",
    "    strat_test_set = agent.loc[test_index]\n",
    "    \n",
    "agent_training = strat_train_set.copy()"
   ]
  },
  {
   "cell_type": "code",
   "execution_count": 87,
   "metadata": {},
   "outputs": [
    {
     "name": "stdout",
     "output_type": "stream",
     "text": [
      "Mozilla/5.0 (Windows NT 6.2) AppleWebKit/537.36 (KHTML, like Gecko) Chrome/39.0.2195.31 Safari/537.36\n",
      "['mozilla windows', 'windows nt', 'nt applewebkit', 'applewebkit 537', '537 36', '36 khtml', 'khtml like', 'like gecko', 'gecko chrome', 'chrome 39', '39 2195', '2195 31', '31 safari', 'safari 537', '537 36']\n",
      "Mozilla/5.0 (Linux; Android 4.1.1; GT-N8010 Build/JRO03C) AppleWebKit/537.36 (KHTML, like Gecko) Chrome/54.0.2840.85 Safari/537.36\n",
      "['mozilla linux', 'linux android', 'android gt', 'gt n8010', 'n8010 build', 'build jro03c', 'jro03c applewebkit', 'applewebkit 537', '537 36', '36 khtml', 'khtml like', 'like gecko', 'gecko chrome', 'chrome 54', '54 2840', '2840 85', '85 safari', 'safari 537', '537 36']\n",
      "Mozilla/5.0 (Windows NT 6.3; WOW64) AppleWebKit/537.36 (KHTML, like Gecko) Chrome/39.0.2175.61 Safari/537.36\n",
      "['mozilla windows', 'windows nt', 'nt wow64', 'wow64 applewebkit', 'applewebkit 537', '537 36', '36 khtml', 'khtml like', 'like gecko', 'gecko chrome', 'chrome 39', '39 2175', '2175 61', '61 safari', 'safari 537', '537 36']\n",
      "Mozilla/5.0 (Windows NT 6.3; Win64; x64) AppleWebKit/537.36 (KHTML, like Gecko) Chrome/45.0.2480.83 Safari/537.36\n",
      "['mozilla windows', 'windows nt', 'nt win64', 'win64 x64', 'x64 applewebkit', 'applewebkit 537', '537 36', '36 khtml', 'khtml like', 'like gecko', 'gecko chrome', 'chrome 45', '45 2480', '2480 83', '83 safari', 'safari 537', '537 36']\n",
      "Mozilla/5.0 (Windows NT 6.2) AppleWebKit/537.36 (KHTML, like Gecko) Chrome/37.0.2072.40 Safari/537.36\n",
      "['mozilla windows', 'windows nt', 'nt applewebkit', 'applewebkit 537', '537 36', '36 khtml', 'khtml like', 'like gecko', 'gecko chrome', 'chrome 37', '37 2072', '2072 40', '40 safari', 'safari 537', '537 36']\n"
     ]
    }
   ],
   "source": [
    "#extract features from agent description\n",
    "from sklearn.feature_extraction.text import CountVectorizer\n",
    "agent_training_description = list(agent_training['Agent'])\n",
    "# TO DO: tune ngram_range, max_features\n",
    "#vectorizer = CountVectorizer(input='content', encoding='utf-8', decode_error='strict', strip_accents=None, lowercase=True, preprocessor=None, tokenizer=None, stop_words=None, token_pattern=\"(?u)\\b\\w\\w+\\b\", ngram_range=(1, 1), analyzer='word', max_df=1.0, min_df=1, max_features=None, vocabulary=None, binary=False,)\n",
    "vectorizer = CountVectorizer(ngram_range=(2, 2))\n",
    "#try default analyzer\n",
    "analyze = vectorizer.build_analyzer()\n",
    "for i in range(5):\n",
    "    print(agent_training_description[i])\n",
    "    print(analyze(agent_training_description[i]))\n"
   ]
  },
  {
   "cell_type": "code",
   "execution_count": 89,
   "metadata": {},
   "outputs": [
    {
     "data": {
      "text/plain": [
       "<421215x152044 sparse matrix of type '<class 'numpy.int64'>'\n",
       "\twith 7022630 stored elements in Compressed Sparse Row format>"
      ]
     },
     "execution_count": 89,
     "metadata": {},
     "output_type": "execute_result"
    }
   ],
   "source": [
    "X = vectorizer.fit_transform(agent_training_description)\n",
    "X"
   ]
  },
  {
   "cell_type": "code",
   "execution_count": 90,
   "metadata": {},
   "outputs": [
    {
     "name": "stdout",
     "output_type": "stream",
     "text": [
      "zz zz 0.360962928671\n",
      "zz samsung 0.360960554586\n",
      "zytir1ppxok cgih0e 0.360958180502\n",
      "zyipbdtxzdc chbok5 0.360955806417\n",
      "zxeozyi_vew rv 0.360953432333\n",
      "zx840hd build 0.360951058248\n",
      "zx rk2926 0.360948684164\n",
      "zx d23 0.360946310079\n",
      "zx a13 0.360943935995\n",
      "zx 2926d 0.36094156191\n",
      "zwrz1i0ex chcxvo 0.360939187826\n",
      "zvii build 0.360936813741\n",
      "zvi imm76d 0.360934439657\n",
      "zvc gwk74 0.360932065572\n",
      "zvav es 0.360929691488\n",
      "zvav de 0.360927317403\n",
      "zv5 vm696 0.360924943319\n",
      "zv5 gwk74 0.360922569234\n",
      "zv4 gwk74 0.36092019515\n",
      "zuum_zen_i build 0.360917821065\n",
      "zuum_e40 build 0.360915446981\n",
      "zuum pro 0.360913072896\n",
      "zuum magnux 0.360910698812\n",
      "zuum forza 0.360908324727\n",
      "zurich financial 0.360905950643\n",
      "zur805s build 0.360903576558\n",
      "zune net4 0.360901202474\n",
      "zune ms 0.360898828389\n",
      "zune mcafee 0.360896454305\n",
      "zune creative 0.36089408022\n",
      "zune bri 0.360891706136\n",
      "zune asktborj 0.360889332051\n",
      "zun xs 0.360886957967\n",
      "zuk zuk 0.360884583882\n",
      "zuk z2151 0.360882209798\n",
      "zuk z2132 0.360879835713\n",
      "zuk z2131 0.360877461629\n",
      "zuk z2121 0.360875087544\n",
      "zuk z1__weibo__6 0.36087271346\n",
      "zuk z1 0.360870339375\n",
      "zug build 0.360867965291\n",
      "zug 5s 0.360865591206\n",
      "zu presto 0.360863217122\n",
      "ztjmhjo0iti cggqng 0.360860843037\n",
      "zteu930 applewebkit 0.360858468953\n",
      "zten790 applewebkit 0.360856094868\n",
      "zteba610t linux 0.360853720784\n",
      "zteba510 linux 0.360851346699\n",
      "zte_u809_td v1 0.360848972615\n",
      "zte_n9511 build 0.36084659853\n",
      "zte_leo_q1 build 0.360844224446\n",
      "zte_blade_v0720 build 0.360841850361\n",
      "zte zte 0.360839476277\n",
      "zte z998 0.360837102192\n",
      "zte z995 0.360834728108\n",
      "zte z990g 0.360832354023\n",
      "zte z988 0.360829979939\n",
      "zte z987 0.360827605854\n",
      "zte z981 0.36082523177\n",
      "zte z970 0.360822857686\n",
      "zte z962bl 0.360820483601\n",
      "zte z958 0.360818109517\n",
      "zte z956 0.360815735432\n",
      "zte z955l 0.360813361348\n",
      "zte z833 0.360810987263\n",
      "zte z831 0.360808613179\n",
      "zte z830 0.360806239094\n",
      "zte z820 0.36080386501\n",
      "zte z818l 0.360801490925\n",
      "zte z815 0.360799116841\n",
      "zte z813 0.360796742756\n",
      "zte z812 0.360794368672\n",
      "zte z792 0.360791994587\n",
      "zte z791g 0.360789620503\n",
      "zte z787 0.360787246418\n",
      "zte z777 0.360784872334\n",
      "zte z753g 0.360782498249\n",
      "zte z740g 0.360780124165\n",
      "zte z740 0.36077775008\n",
      "zte z716bl 0.360775375996\n",
      "zte z669 0.360773001911\n",
      "zte z667g 0.360770627827\n",
      "zte z660g 0.360768253742\n",
      "zte v993w 0.360765879658\n",
      "zte v9820 0.360763505573\n",
      "zte v975 0.360761131489\n",
      "zte v970m 0.360758757404\n",
      "zte v831w 0.36075638332\n",
      "zte v830w 0.360754009235\n",
      "zte v829 0.360751635151\n",
      "zte v817 0.360749261066\n",
      "zte v815w 0.360746886982\n",
      "zte v811w 0.360744512897\n",
      "zte v809 0.360742138813\n",
      "zte v797 0.360739764728\n",
      "zte v795 0.360737390644\n",
      "zte v793 0.360735016559\n",
      "zte v791 0.360732642475\n",
      "zte v769m 0.36073026839\n",
      "zte v765m 0.360727894306\n"
     ]
    }
   ],
   "source": [
    "#show the top 10 frequent words and their frequency of the default vectorizer\n",
    "low_frequency_keys = sorted(vectorizer.vocabulary_, key=vectorizer.vocabulary_.get, reverse=True)[:100]\n",
    "for k in low_frequency_keys:\n",
    "    print(k, vectorizer.vocabulary_[k]/len(agent))\n"
   ]
  },
  {
   "cell_type": "code",
   "execution_count": 91,
   "metadata": {},
   "outputs": [
    {
     "name": "stdout",
     "output_type": "stream",
     "text": [
      "00 00 0.0\n",
      "00 02 2.37408449367e-06\n",
      "00 04 4.74816898733e-06\n",
      "00 05 7.122253481e-06\n",
      "00 161 9.49633797467e-06\n",
      "00 23 1.18704224683e-05\n",
      "00 33 1.4244506962e-05\n",
      "00 3990 1.66185914557e-05\n",
      "00 40 1.89926759493e-05\n",
      "00 applewebkit 2.1366760443e-05\n",
      "00 boie8 2.37408449367e-05\n",
      "00 build 2.61149294303e-05\n",
      "00 d1 2.8489013924e-05\n",
      "00 kr 3.08630984177e-05\n",
      "00 lge 3.32371829113e-05\n",
      "00 mv 3.5611267405e-05\n",
      "00 net 3.79853518987e-05\n",
      "00 presto 4.03594363923e-05\n",
      "00 rog 4.2733520886e-05\n",
      "00 safari 4.51076053797e-05\n",
      "00 samsung 4.74816898733e-05\n",
      "00 slcc2 4.9855774367e-05\n",
      "00 u2 5.22298588607e-05\n",
      "00 windows 5.46039433543e-05\n",
      "00 wv 5.6978027848e-05\n",
      "000 33 5.93521123417e-05\n",
      "000 88 6.17261968353e-05\n",
      "000 applewebkit 6.4100281329e-05\n",
      "000 build 6.64743658227e-05\n",
      "0000 0000 6.88484503163e-05\n",
      "0000 000000004000 7.122253481e-05\n",
      "0000 applewebkit 7.35966193037e-05\n",
      "0000 build 7.59707037973e-05\n",
      "00000000 0000 7.8344788291e-05\n",
      "000000004000 koboaffiliate 8.07188727847e-05\n",
      "00000000877d windows 8.30929572783e-05\n",
      "000000062262 windows 8.5467041772e-05\n",
      "000000071299 windows 8.78411262657e-05\n",
      "000000084866 windows 9.02152107594e-05\n",
      "000000096386 windows 9.2589295253e-05\n",
      "000000108099 windows 9.49633797467e-05\n",
      "000000108717 windows 9.73374642404e-05\n",
      "000000121131 windows 9.9711548734e-05\n",
      "00000015242a windows 0.000102085633228\n",
      "000000218102 windows 0.000104459717721\n",
      "00000024603b windows 0.000106833802215\n",
      "00000033631f windows 0.000109207886709\n",
      "00000043358e windows 0.000111581971202\n",
      "00000047293d windows 0.000113956055696\n",
      "000000517048 slcc2 0.00011633014019\n",
      "000000543288 windows 0.000118704224683\n",
      "000000640662 windows 0.000121078309177\n",
      "00000064506a windows 0.000123452393671\n",
      "000000763360 windows 0.000125826478164\n",
      "000000789688 windows 0.000128200562658\n",
      "00000101260c windows 0.000130574647152\n",
      "000019 001 0.000132948731645\n",
      "0001 0001 0.000135322816139\n",
      "0001 kdl40w605b 0.000137696900633\n",
      "00014a sonydtv115 0.000140070985126\n",
      "00014a sonydtv140 0.00014244506962\n",
      "0002 0100 0.000144819154114\n",
      "0002 applewebkit 0.000147193238607\n",
      "00038a000015 gtb7 0.000149567323101\n",
      "0004234fe699 gtb7 0.000151941407595\n",
      "000ri 37 0.000154315492088\n",
      "001 applewebkit 0.000156689576582\n",
      "001 build 0.000159063661076\n",
      "0011 42a7 0.000161437745569\n",
      "0011118d3656 gtb7 0.000163811830063\n",
      "00115 build 0.000166185914557\n",
      "001a6bad2666 slcc2 0.00016855999905\n",
      "001cc0791842 gtb7 0.000170934083544\n",
      "0023ae9a711d gtb7 0.000173308168038\n",
      "00260 applewebkit 0.000175682252531\n",
      "003 01 0.000178056337025\n",
      "003 adaware 0.000180430421519\n",
      "004 251 0.000182804506012\n",
      "004 p0 0.000185178590506\n",
      "005 net 0.000187552675\n",
      "007 130121 0.000189926759493\n",
      "007 rv 0.000192300843987\n",
      "007g iewauh 0.000194674928481\n",
      "0082 applewebkit 0.000197049012974\n",
      "0082 build 0.000199423097468\n",
      "0089fea9 15386ec3090 0.000201797181962\n",
      "00a g0126 0.000204171266455\n",
      "00piwiavw7a rb8ac6 0.000206545350949\n",
      "01 00a 0.000208919435443\n",
      "01 01 0.000211293519936\n",
      "01 0225 0.00021366760443\n",
      "01 03 0.000216041688924\n",
      "01 04 0.000218415773417\n",
      "01 05 0.000220789857911\n",
      "01 06 0.000223163942405\n",
      "01 07 0.000225538026898\n",
      "01 08 0.000227912111392\n",
      "01 09 0.000230286195886\n",
      "01 10 0.000232660280379\n",
      "01 15 0.000235034364873\n"
     ]
    }
   ],
   "source": [
    "#show the bottom 10 frequent words and its frequency of the default vectorizer\n",
    "low_frequency_keys = sorted(vectorizer.vocabulary_, key=vectorizer.vocabulary_.get)[:100]\n",
    "for k in low_frequency_keys:\n",
    "    print(k, vectorizer.vocabulary_[k]/len(agent))"
   ]
  },
  {
   "cell_type": "code",
   "execution_count": 92,
   "metadata": {},
   "outputs": [
    {
     "data": {
      "text/plain": [
       "<20x152044 sparse matrix of type '<class 'numpy.int64'>'\n",
       "\twith 320 stored elements in Compressed Sparse Row format>"
      ]
     },
     "execution_count": 92,
     "metadata": {},
     "output_type": "execute_result"
    }
   ],
   "source": [
    "#apply  Tf–idf term weighting\n",
    "from sklearn.feature_extraction.text import TfidfTransformer\n",
    "transformer = TfidfTransformer(smooth_idf=False)\n",
    "tfidf = transformer.fit_transform(X.toarray())\n",
    "tfidf.toarray() "
   ]
  },
  {
   "cell_type": "code",
   "execution_count": null,
   "metadata": {},
   "outputs": [],
   "source": [
    "#Train the classifier "
   ]
  },
  {
   "cell_type": "code",
   "execution_count": 97,
   "metadata": {},
   "outputs": [
    {
     "data": {
      "text/html": [
       "<div>\n",
       "<style>\n",
       "    .dataframe thead tr:only-child th {\n",
       "        text-align: right;\n",
       "    }\n",
       "\n",
       "    .dataframe thead th {\n",
       "        text-align: left;\n",
       "    }\n",
       "\n",
       "    .dataframe tbody tr th {\n",
       "        vertical-align: top;\n",
       "    }\n",
       "</style>\n",
       "<table border=\"1\" class=\"dataframe\">\n",
       "  <thead>\n",
       "    <tr style=\"text-align: right;\">\n",
       "      <th></th>\n",
       "      <th>Agent</th>\n",
       "      <th>AgentFamily</th>\n",
       "      <th>Version</th>\n",
       "    </tr>\n",
       "  </thead>\n",
       "  <tbody>\n",
       "    <tr>\n",
       "      <th>0</th>\n",
       "      <td>Mozilla/5.0 (Windows NT 6.2; Win64; x64) Apple...</td>\n",
       "      <td>Chrome</td>\n",
       "      <td>39</td>\n",
       "    </tr>\n",
       "    <tr>\n",
       "      <th>1</th>\n",
       "      <td>Mozilla/5.0 (Windows NT 5.1) AppleWebKit/537.3...</td>\n",
       "      <td>Chrome</td>\n",
       "      <td>32</td>\n",
       "    </tr>\n",
       "  </tbody>\n",
       "</table>\n",
       "</div>"
      ],
      "text/plain": [
       "                                               Agent AgentFamily  Version\n",
       "0  Mozilla/5.0 (Windows NT 6.2; Win64; x64) Apple...      Chrome       39\n",
       "1  Mozilla/5.0 (Windows NT 5.1) AppleWebKit/537.3...      Chrome       32"
      ]
     },
     "execution_count": 97,
     "metadata": {},
     "output_type": "execute_result"
    }
   ],
   "source": [
    "# Load test data \n",
    "\n",
    "DATA_PATH = \"datasets\"\n",
    "TRAINING_DATA = \"test_data_coding_exercise.txt\"\n",
    "\n",
    "def load_data(data_path = DATA_PATH, data = TRAINING_DATA):\n",
    "    file_path = os.path.join(data_path, data)\n",
    "    return pd.read_csv(file_path, sep = '\\t',  names = [\"Agent\", \"AgentFamily\", \"Version\"])\n",
    "\n",
    "agent_test = load_data()\n",
    "agent_test.head()\n"
   ]
  },
  {
   "cell_type": "code",
   "execution_count": 99,
   "metadata": {},
   "outputs": [
    {
     "data": {
      "text/plain": [
       "array([[0, 0, 0, ..., 0, 0, 0],\n",
       "       [0, 0, 0, ..., 0, 0, 0]])"
      ]
     },
     "execution_count": 99,
     "metadata": {},
     "output_type": "execute_result"
    }
   ],
   "source": [
    "#transfrom the test data set\n",
    "vectorizer.transform(agent_test[\"Agent\"]).toarray()"
   ]
  },
  {
   "cell_type": "code",
   "execution_count": null,
   "metadata": {},
   "outputs": [],
   "source": [
    "#make prediction"
   ]
  }
 ],
 "metadata": {
  "kernelspec": {
   "display_name": "Python 3",
   "language": "python",
   "name": "python3"
  },
  "language_info": {
   "codemirror_mode": {
    "name": "ipython",
    "version": 3
   },
   "file_extension": ".py",
   "mimetype": "text/x-python",
   "name": "python",
   "nbconvert_exporter": "python",
   "pygments_lexer": "ipython3",
   "version": "3.5.0"
  }
 },
 "nbformat": 4,
 "nbformat_minor": 2
}
