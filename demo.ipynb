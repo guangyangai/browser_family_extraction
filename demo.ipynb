{
 "cells": [
  {
   "cell_type": "code",
   "execution_count": 7,
   "metadata": {},
   "outputs": [
    {
     "data": {
      "text/html": [
       "<div>\n",
       "<style>\n",
       "    .dataframe thead tr:only-child th {\n",
       "        text-align: right;\n",
       "    }\n",
       "\n",
       "    .dataframe thead th {\n",
       "        text-align: left;\n",
       "    }\n",
       "\n",
       "    .dataframe tbody tr th {\n",
       "        vertical-align: top;\n",
       "    }\n",
       "</style>\n",
       "<table border=\"1\" class=\"dataframe\">\n",
       "  <thead>\n",
       "    <tr style=\"text-align: right;\">\n",
       "      <th></th>\n",
       "      <th>Agent</th>\n",
       "      <th>AgentFamily</th>\n",
       "      <th>Version</th>\n",
       "    </tr>\n",
       "  </thead>\n",
       "  <tbody>\n",
       "    <tr>\n",
       "      <th>0</th>\n",
       "      <td>Mozilla/5.0 (Windows NT 6.2) AppleWebKit/537.3...</td>\n",
       "      <td>Chrome</td>\n",
       "      <td>39</td>\n",
       "    </tr>\n",
       "    <tr>\n",
       "      <th>1</th>\n",
       "      <td>Mozilla/5.0 (Linux; Android 4.1.1; GT-N8010 Bu...</td>\n",
       "      <td>Chrome</td>\n",
       "      <td>54</td>\n",
       "    </tr>\n",
       "    <tr>\n",
       "      <th>2</th>\n",
       "      <td>Mozilla/5.0 (Windows NT 6.3; WOW64) AppleWebKi...</td>\n",
       "      <td>Chrome</td>\n",
       "      <td>39</td>\n",
       "    </tr>\n",
       "    <tr>\n",
       "      <th>3</th>\n",
       "      <td>Mozilla/5.0 (Windows NT 6.3; Win64; x64) Apple...</td>\n",
       "      <td>Chrome</td>\n",
       "      <td>45</td>\n",
       "    </tr>\n",
       "    <tr>\n",
       "      <th>4</th>\n",
       "      <td>Mozilla/5.0 (Windows NT 6.2) AppleWebKit/537.3...</td>\n",
       "      <td>Chrome</td>\n",
       "      <td>37</td>\n",
       "    </tr>\n",
       "  </tbody>\n",
       "</table>\n",
       "</div>"
      ],
      "text/plain": [
       "                                               Agent AgentFamily Version\n",
       "0  Mozilla/5.0 (Windows NT 6.2) AppleWebKit/537.3...      Chrome      39\n",
       "1  Mozilla/5.0 (Linux; Android 4.1.1; GT-N8010 Bu...      Chrome      54\n",
       "2  Mozilla/5.0 (Windows NT 6.3; WOW64) AppleWebKi...      Chrome      39\n",
       "3  Mozilla/5.0 (Windows NT 6.3; Win64; x64) Apple...      Chrome      45\n",
       "4  Mozilla/5.0 (Windows NT 6.2) AppleWebKit/537.3...      Chrome      37"
      ]
     },
     "execution_count": 7,
     "metadata": {},
     "output_type": "execute_result"
    }
   ],
   "source": [
    "# Load data and simple statistics \n",
    "import os,tarfile\n",
    "import pandas as pd\n",
    "import matplotlib.pyplot as plt\n",
    "DATA_PATH = \"datasets\"\n",
    "TRAINING_DATA = \"data_coding_exercise.txt\"\n",
    "\n",
    "def load_data(data_path = DATA_PATH, data = TRAINING_DATA):\n",
    "    file_path = os.path.join(data_path, data)\n",
    "    return pd.read_csv(file_path, sep = '\\t',  names = [\"Agent\", \"AgentFamily\", \"Version\"])\n",
    "\n",
    "agent = load_data()\n",
    "agent.head()\n",
    "\n",
    "\n",
    "\n"
   ]
  },
  {
   "cell_type": "code",
   "execution_count": 8,
   "metadata": {},
   "outputs": [
    {
     "data": {
      "text/html": [
       "<div>\n",
       "<style>\n",
       "    .dataframe thead tr:only-child th {\n",
       "        text-align: right;\n",
       "    }\n",
       "\n",
       "    .dataframe thead th {\n",
       "        text-align: left;\n",
       "    }\n",
       "\n",
       "    .dataframe tbody tr th {\n",
       "        vertical-align: top;\n",
       "    }\n",
       "</style>\n",
       "<table border=\"1\" class=\"dataframe\">\n",
       "  <thead>\n",
       "    <tr style=\"text-align: right;\">\n",
       "      <th></th>\n",
       "      <th>Agent</th>\n",
       "      <th>AgentFamily</th>\n",
       "      <th>Version</th>\n",
       "    </tr>\n",
       "  </thead>\n",
       "  <tbody>\n",
       "    <tr>\n",
       "      <th>count</th>\n",
       "      <td>421215</td>\n",
       "      <td>421215</td>\n",
       "      <td>421215</td>\n",
       "    </tr>\n",
       "    <tr>\n",
       "      <th>unique</th>\n",
       "      <td>421215</td>\n",
       "      <td>28</td>\n",
       "      <td>118</td>\n",
       "    </tr>\n",
       "    <tr>\n",
       "      <th>top</th>\n",
       "      <td>Mozilla/5.0 (Linux; Android 4.2.2; ALCATEL ONE...</td>\n",
       "      <td>Chrome</td>\n",
       "      <td>33</td>\n",
       "    </tr>\n",
       "    <tr>\n",
       "      <th>freq</th>\n",
       "      <td>1</td>\n",
       "      <td>308656</td>\n",
       "      <td>25755</td>\n",
       "    </tr>\n",
       "  </tbody>\n",
       "</table>\n",
       "</div>"
      ],
      "text/plain": [
       "                                                    Agent AgentFamily Version\n",
       "count                                              421215      421215  421215\n",
       "unique                                             421215          28     118\n",
       "top     Mozilla/5.0 (Linux; Android 4.2.2; ALCATEL ONE...      Chrome      33\n",
       "freq                                                    1      308656   25755"
      ]
     },
     "execution_count": 8,
     "metadata": {},
     "output_type": "execute_result"
    }
   ],
   "source": [
    "agent.describe()"
   ]
  },
  {
   "cell_type": "code",
   "execution_count": 14,
   "metadata": {},
   "outputs": [
    {
     "data": {
      "text/plain": [
       "Chrome               308656\n",
       "Chrome Mobile         50095\n",
       "Facebook              18803\n",
       "IE                    17426\n",
       "Android                8155\n",
       "UC Browser             5595\n",
       "Mobile Safari          2383\n",
       "QQ Browser Mobile      1745\n",
       "Firefox                1661\n",
       "Opera Mobile           1281\n",
       "Opera                   921\n",
       "Chrome Mobile iOS       911\n",
       "Opera Mini              626\n",
       "Safari                  626\n",
       "QQ Browser              365\n",
       "IE Mobile               305\n",
       "BlackBerry WebKit       275\n",
       "Firefox Mobile          248\n",
       "Amazon Silk             224\n",
       "AppleMail               120\n",
       "Edge                    117\n",
       "Edge Mobile             116\n",
       "YandexSearch            111\n",
       "Maxthon                 107\n",
       "AOL                     100\n",
       "Sogou Explorer           95\n",
       "Puffin                   75\n",
       "Firefox iOS              73\n",
       "Name: AgentFamily, dtype: int64"
      ]
     },
     "execution_count": 14,
     "metadata": {},
     "output_type": "execute_result"
    }
   ],
   "source": [
    "agent[\"AgentFamily\"].value_counts()\n"
   ]
  },
  {
   "cell_type": "code",
   "execution_count": 15,
   "metadata": {},
   "outputs": [
    {
     "data": {
      "text/plain": [
       "33     25755\n",
       "35     23924\n",
       "37     23889\n",
       "34     23637\n",
       "36     23468\n",
       "44     22689\n",
       "40     22360\n",
       "43     21983\n",
       "38     21564\n",
       "42     21296\n",
       "39     21173\n",
       "32     20832\n",
       "41     20032\n",
       "45     19607\n",
       "11     15189\n",
       "55     14011\n",
       "54      7436\n",
       "4       7079\n",
       "7       4834\n",
       "53      3827\n",
       "106     3688\n",
       "52      3595\n",
       "51      3594\n",
       "30      3371\n",
       "10      3339\n",
       "75      3336\n",
       "50      3091\n",
       "49      2706\n",
       "8       2506\n",
       "46      2075\n",
       "       ...  \n",
       "16        83\n",
       "90        78\n",
       "91        74\n",
       "83        72\n",
       "88        68\n",
       "89        68\n",
       "86        66\n",
       "85        62\n",
       "87        61\n",
       "84        50\n",
       "81        50\n",
       "77        49\n",
       "82        45\n",
       "80        44\n",
       "601       35\n",
       "79        32\n",
       "602       31\n",
       "76        25\n",
       "600       23\n",
       "69        15\n",
       "71        14\n",
       "70        12\n",
       "537       11\n",
       "534       10\n",
       "0          9\n",
       "533        7\n",
       "78         4\n",
       "603        3\n",
       "536        2\n",
       "451        1\n",
       "Name: Version, Length: 118, dtype: int64"
      ]
     },
     "execution_count": 15,
     "metadata": {},
     "output_type": "execute_result"
    }
   ],
   "source": [
    "agent[\"Version\"].value_counts()\n"
   ]
  },
  {
   "cell_type": "code",
   "execution_count": null,
   "metadata": {},
   "outputs": [],
   "source": [
    "#Create training set and test set \n",
    "from sklearn.model_selection  import StratifiedShuffleSplit"
   ]
  }
 ],
 "metadata": {
  "kernelspec": {
   "display_name": "Python 3",
   "language": "python",
   "name": "python3"
  },
  "language_info": {
   "codemirror_mode": {
    "name": "ipython",
    "version": 3
   },
   "file_extension": ".py",
   "mimetype": "text/x-python",
   "name": "python",
   "nbconvert_exporter": "python",
   "pygments_lexer": "ipython3",
   "version": "3.5.0"
  }
 },
 "nbformat": 4,
 "nbformat_minor": 2
}
